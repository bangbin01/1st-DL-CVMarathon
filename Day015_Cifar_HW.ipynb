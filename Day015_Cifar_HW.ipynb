{
 "cells": [
  {
   "cell_type": "markdown",
   "metadata": {},
   "source": [
    "## 『本次練習內容』\n",
    "#### 運用這幾天所學觀念搭建一個CNN分類器"
   ]
  },
  {
   "cell_type": "markdown",
   "metadata": {},
   "source": [
    "## 『本次練習目的』\n",
    "  #### 熟悉CNN分類器搭建步驟與原理\n",
    "  #### 學員們可以嘗試不同搭法，如使用不同的Maxpooling層，用GlobalAveragePooling取代Flatten等等"
   ]
  },
  {
   "cell_type": "code",
   "execution_count": 1,
   "metadata": {},
   "outputs": [
    {
     "name": "stderr",
     "output_type": "stream",
     "text": [
      "Using TensorFlow backend.\n"
     ]
    }
   ],
   "source": [
    "from keras.models import Sequential\n",
    "from keras.layers import Convolution2D\n",
    "from keras.layers import MaxPooling2D\n",
    "from keras.layers import Flatten\n",
    "from keras.layers import Dense\n",
    "from keras.layers import Dropout\n",
    "from keras.layers import BatchNormalization\n",
    "from keras.datasets import cifar10\n",
    "import numpy as np\n",
    "import tensorflow as tf\n",
    "from sklearn.preprocessing import OneHotEncoder\n"
   ]
  },
  {
   "cell_type": "code",
   "execution_count": 2,
   "metadata": {},
   "outputs": [
    {
     "name": "stdout",
     "output_type": "stream",
     "text": [
      "b'Hello, TensorFlow!'\n"
     ]
    }
   ],
   "source": [
    "import tensorflow as tf\n",
    "hello = tf.constant('Hello, TensorFlow!')\n",
    "sess = tf.Session()\n",
    "print(sess.run(hello))"
   ]
  },
  {
   "cell_type": "code",
   "execution_count": 3,
   "metadata": {},
   "outputs": [
    {
     "name": "stdout",
     "output_type": "stream",
     "text": [
      "[name: \"/device:CPU:0\"\n",
      "device_type: \"CPU\"\n",
      "memory_limit: 268435456\n",
      "locality {\n",
      "}\n",
      "incarnation: 6722309243364431110\n",
      ", name: \"/device:GPU:0\"\n",
      "device_type: \"GPU\"\n",
      "memory_limit: 6686052843\n",
      "locality {\n",
      "  bus_id: 1\n",
      "  links {\n",
      "  }\n",
      "}\n",
      "incarnation: 916830884635923346\n",
      "physical_device_desc: \"device: 0, name: GeForce GTX 1070, pci bus id: 0000:01:00.0, compute capability: 6.1\"\n",
      "]\n",
      "WARNING:tensorflow:From C:\\Users\\bangb\\Anaconda3\\lib\\site-packages\\keras\\backend\\tensorflow_backend.py:174: The name tf.get_default_session is deprecated. Please use tf.compat.v1.get_default_session instead.\n",
      "\n",
      "WARNING:tensorflow:From C:\\Users\\bangb\\Anaconda3\\lib\\site-packages\\keras\\backend\\tensorflow_backend.py:181: The name tf.ConfigProto is deprecated. Please use tf.compat.v1.ConfigProto instead.\n",
      "\n",
      "WARNING:tensorflow:From C:\\Users\\bangb\\Anaconda3\\lib\\site-packages\\keras\\backend\\tensorflow_backend.py:186: The name tf.Session is deprecated. Please use tf.compat.v1.Session instead.\n",
      "\n",
      "WARNING:tensorflow:From C:\\Users\\bangb\\Anaconda3\\lib\\site-packages\\keras\\backend\\tensorflow_backend.py:190: The name tf.global_variables is deprecated. Please use tf.compat.v1.global_variables instead.\n",
      "\n"
     ]
    },
    {
     "data": {
      "text/plain": [
       "['/job:localhost/replica:0/task:0/device:GPU:0']"
      ]
     },
     "execution_count": 3,
     "metadata": {},
     "output_type": "execute_result"
    }
   ],
   "source": [
    "from tensorflow.python.client import device_lib\n",
    "print(device_lib.list_local_devices())\n",
    "\n",
    "from keras import backend as K\n",
    "K.tensorflow_backend._get_available_gpus()"
   ]
  },
  {
   "cell_type": "code",
   "execution_count": 4,
   "metadata": {},
   "outputs": [
    {
     "name": "stdout",
     "output_type": "stream",
     "text": [
      "(50000, 32, 32, 3)\n"
     ]
    }
   ],
   "source": [
    "(x_train, y_train), (x_test, y_test) = cifar10.load_data()\n",
    "\n",
    "print(x_train.shape) #(50000, 32, 32, 3)\n",
    "\n",
    "## Normalize Data\n",
    "def normalize(X_train,X_test):\n",
    "        mean = np.mean(X_train,axis=(0,1,2,3))\n",
    "        std = np.std(X_train, axis=(0, 1, 2, 3))\n",
    "        X_train = (X_train-mean)/(std+1e-7)\n",
    "        X_test = (X_test-mean)/(std+1e-7) \n",
    "        return X_train, X_test,mean,std\n",
    "    \n",
    "    \n",
    "## Normalize Training and Testset    \n",
    "x_train, x_test,mean_train,std_train = normalize(x_train, x_test) "
   ]
  },
  {
   "cell_type": "code",
   "execution_count": 5,
   "metadata": {},
   "outputs": [
    {
     "name": "stderr",
     "output_type": "stream",
     "text": [
      "C:\\Users\\bangb\\Anaconda3\\lib\\site-packages\\sklearn\\preprocessing\\_encoders.py:415: FutureWarning: The handling of integer data will change in version 0.22. Currently, the categories are determined based on the range [0, max(values)], while in the future they will be determined based on the unique values.\n",
      "If you want the future behaviour and silence this warning, you can specify \"categories='auto'\".\n",
      "In case you used a LabelEncoder before this OneHotEncoder to convert the categories to integers, then you can now use the OneHotEncoder directly.\n",
      "  warnings.warn(msg, FutureWarning)\n"
     ]
    }
   ],
   "source": [
    "## OneHot Label 由(None, 1)-(None, 10)\n",
    "## ex. label=2,變成[0,0,1,0,0,0,0,0,0,0]\n",
    "one_hot=OneHotEncoder()\n",
    "y_train=one_hot.fit_transform(y_train).toarray()\n",
    "y_test=one_hot.transform(y_test).toarray()"
   ]
  },
  {
   "cell_type": "code",
   "execution_count": 6,
   "metadata": {},
   "outputs": [
    {
     "name": "stdout",
     "output_type": "stream",
     "text": [
      "WARNING:tensorflow:From C:\\Users\\bangb\\Anaconda3\\lib\\site-packages\\keras\\backend\\tensorflow_backend.py:74: The name tf.get_default_graph is deprecated. Please use tf.compat.v1.get_default_graph instead.\n",
      "\n",
      "WARNING:tensorflow:From C:\\Users\\bangb\\Anaconda3\\lib\\site-packages\\keras\\backend\\tensorflow_backend.py:1834: The name tf.nn.fused_batch_norm is deprecated. Please use tf.compat.v1.nn.fused_batch_norm instead.\n",
      "\n",
      "WARNING:tensorflow:From C:\\Users\\bangb\\Anaconda3\\lib\\site-packages\\keras\\backend\\tensorflow_backend.py:3976: The name tf.nn.max_pool is deprecated. Please use tf.nn.max_pool2d instead.\n",
      "\n",
      "WARNING:tensorflow:From C:\\Users\\bangb\\Anaconda3\\lib\\site-packages\\keras\\optimizers.py:790: The name tf.train.Optimizer is deprecated. Please use tf.compat.v1.train.Optimizer instead.\n",
      "\n"
     ]
    },
    {
     "name": "stderr",
     "output_type": "stream",
     "text": [
      "C:\\Users\\bangb\\Anaconda3\\lib\\site-packages\\ipykernel_launcher.py:20: UserWarning: Update your `Dense` call to the Keras 2 API: `Dense(activation=\"relu\", units=100)`\n",
      "C:\\Users\\bangb\\Anaconda3\\lib\\site-packages\\ipykernel_launcher.py:23: UserWarning: Update your `Dense` call to the Keras 2 API: `Dense(activation=\"softmax\", units=10)`\n"
     ]
    },
    {
     "name": "stdout",
     "output_type": "stream",
     "text": [
      "WARNING:tensorflow:From C:\\Users\\bangb\\Anaconda3\\lib\\site-packages\\tensorflow\\python\\ops\\math_grad.py:1250: add_dispatch_support.<locals>.wrapper (from tensorflow.python.ops.array_ops) is deprecated and will be removed in a future version.\n",
      "Instructions for updating:\n",
      "Use tf.where in 2.0, which has the same broadcast rule as np.where\n",
      "Epoch 1/100\n",
      "50000/50000 [==============================] - 9s 189us/step - loss: 1.3586 - acc: 0.5253\n",
      "Epoch 2/100\n",
      "50000/50000 [==============================] - 7s 140us/step - loss: 0.9456 - acc: 0.6700\n",
      "Epoch 3/100\n",
      "50000/50000 [==============================] - 7s 133us/step - loss: 0.7767 - acc: 0.7257\n",
      "Epoch 4/100\n",
      "50000/50000 [==============================] - 7s 134us/step - loss: 0.6444 - acc: 0.7741\n",
      "Epoch 5/100\n",
      "50000/50000 [==============================] - 7s 138us/step - loss: 0.5182 - acc: 0.8193\n",
      "Epoch 6/100\n",
      "50000/50000 [==============================] - 7s 138us/step - loss: 0.3989 - acc: 0.8618\n",
      "Epoch 7/100\n",
      "50000/50000 [==============================] - 8s 153us/step - loss: 0.3001 - acc: 0.8960\n",
      "Epoch 8/100\n",
      "50000/50000 [==============================] - 8s 153us/step - loss: 0.2179 - acc: 0.9237\n",
      "Epoch 9/100\n",
      "50000/50000 [==============================] - 7s 143us/step - loss: 0.1718 - acc: 0.9400\n",
      "Epoch 10/100\n",
      "50000/50000 [==============================] - 7s 150us/step - loss: 0.1280 - acc: 0.9560\n",
      "Epoch 11/100\n",
      "50000/50000 [==============================] - 7s 150us/step - loss: 0.1122 - acc: 0.9613\n",
      "Epoch 12/100\n",
      "50000/50000 [==============================] - 7s 148us/step - loss: 0.1075 - acc: 0.9627\n",
      "Epoch 13/100\n",
      "50000/50000 [==============================] - 7s 141us/step - loss: 0.0932 - acc: 0.9679\n",
      "Epoch 14/100\n",
      "50000/50000 [==============================] - 7s 149us/step - loss: 0.0762 - acc: 0.9755\n",
      "Epoch 15/100\n",
      "50000/50000 [==============================] - 7s 148us/step - loss: 0.0705 - acc: 0.9761\n",
      "Epoch 16/100\n",
      "50000/50000 [==============================] - 7s 138us/step - loss: 0.0790 - acc: 0.9730\n",
      "Epoch 17/100\n",
      "50000/50000 [==============================] - 7s 143us/step - loss: 0.0693 - acc: 0.9759\n",
      "Epoch 18/100\n",
      "50000/50000 [==============================] - 7s 146us/step - loss: 0.0583 - acc: 0.9807\n",
      "Epoch 19/100\n",
      "50000/50000 [==============================] - 7s 144us/step - loss: 0.0512 - acc: 0.9824\n",
      "Epoch 20/100\n",
      "50000/50000 [==============================] - 7s 138us/step - loss: 0.0526 - acc: 0.9821\n",
      "Epoch 21/100\n",
      "50000/50000 [==============================] - 7s 139us/step - loss: 0.0654 - acc: 0.9788\n",
      "Epoch 22/100\n",
      "50000/50000 [==============================] - 7s 142us/step - loss: 0.0495 - acc: 0.9839\n",
      "Epoch 23/100\n",
      "50000/50000 [==============================] - 7s 143us/step - loss: 0.0387 - acc: 0.9876\n",
      "Epoch 24/100\n",
      "50000/50000 [==============================] - 8s 160us/step - loss: 0.0428 - acc: 0.9861\n",
      "Epoch 25/100\n",
      "50000/50000 [==============================] - 9s 175us/step - loss: 0.0538 - acc: 0.9820\n",
      "Epoch 26/100\n",
      "50000/50000 [==============================] - 9s 171us/step - loss: 0.0521 - acc: 0.9829\n",
      "Epoch 27/100\n",
      "50000/50000 [==============================] - 7s 137us/step - loss: 0.0383 - acc: 0.9871\n",
      "Epoch 28/100\n",
      "50000/50000 [==============================] - 7s 134us/step - loss: 0.0372 - acc: 0.9879\n",
      "Epoch 29/100\n",
      "50000/50000 [==============================] - 7s 141us/step - loss: 0.0345 - acc: 0.9882\n",
      "Epoch 30/100\n",
      "50000/50000 [==============================] - 7s 149us/step - loss: 0.0410 - acc: 0.9866 0s - loss: 0.0403 \n",
      "Epoch 31/100\n",
      "50000/50000 [==============================] - 8s 168us/step - loss: 0.0382 - acc: 0.9876\n",
      "Epoch 32/100\n",
      "50000/50000 [==============================] - 9s 176us/step - loss: 0.0420 - acc: 0.9862\n",
      "Epoch 33/100\n",
      "50000/50000 [==============================] - 8s 161us/step - loss: 0.0350 - acc: 0.9887\n",
      "Epoch 34/100\n",
      "50000/50000 [==============================] - 7s 143us/step - loss: 0.0231 - acc: 0.9927\n",
      "Epoch 35/100\n",
      "50000/50000 [==============================] - 7s 145us/step - loss: 0.0326 - acc: 0.9901\n",
      "Epoch 36/100\n",
      "50000/50000 [==============================] - 7s 134us/step - loss: 0.0436 - acc: 0.9860\n",
      "Epoch 37/100\n",
      "50000/50000 [==============================] - 7s 142us/step - loss: 0.0347 - acc: 0.9890\n",
      "Epoch 38/100\n",
      "50000/50000 [==============================] - 8s 150us/step - loss: 0.0289 - acc: 0.9901\n",
      "Epoch 39/100\n",
      "50000/50000 [==============================] - 7s 147us/step - loss: 0.0299 - acc: 0.9902\n",
      "Epoch 40/100\n",
      "50000/50000 [==============================] - 8s 170us/step - loss: 0.0313 - acc: 0.9902\n",
      "Epoch 41/100\n",
      "50000/50000 [==============================] - 8s 151us/step - loss: 0.0212 - acc: 0.9930\n",
      "Epoch 42/100\n",
      "50000/50000 [==============================] - 7s 149us/step - loss: 0.0334 - acc: 0.9896\n",
      "Epoch 43/100\n",
      "50000/50000 [==============================] - 7s 145us/step - loss: 0.0303 - acc: 0.9907\n",
      "Epoch 44/100\n",
      "50000/50000 [==============================] - 8s 166us/step - loss: 0.0267 - acc: 0.9916\n",
      "Epoch 45/100\n",
      "50000/50000 [==============================] - 8s 152us/step - loss: 0.0220 - acc: 0.9931\n",
      "Epoch 46/100\n",
      "50000/50000 [==============================] - 8s 154us/step - loss: 0.0265 - acc: 0.9919\n",
      "Epoch 47/100\n",
      "50000/50000 [==============================] - 7s 141us/step - loss: 0.0295 - acc: 0.9905\n",
      "Epoch 48/100\n",
      "50000/50000 [==============================] - ETA: 0s - loss: 0.0258 - acc: 0.992 - 8s 154us/step - loss: 0.0258 - acc: 0.9921\n",
      "Epoch 49/100\n",
      "50000/50000 [==============================] - 7s 136us/step - loss: 0.0213 - acc: 0.9933\n",
      "Epoch 50/100\n",
      "50000/50000 [==============================] - 7s 137us/step - loss: 0.0212 - acc: 0.9932\n",
      "Epoch 51/100\n",
      "50000/50000 [==============================] - 7s 137us/step - loss: 0.0232 - acc: 0.9925\n",
      "Epoch 52/100\n",
      "50000/50000 [==============================] - 7s 137us/step - loss: 0.0223 - acc: 0.9924\n",
      "Epoch 53/100\n",
      "50000/50000 [==============================] - 7s 137us/step - loss: 0.0207 - acc: 0.9935\n",
      "Epoch 54/100\n",
      "50000/50000 [==============================] - 7s 136us/step - loss: 0.0238 - acc: 0.9925\n",
      "Epoch 55/100\n",
      "50000/50000 [==============================] - 7s 136us/step - loss: 0.0228 - acc: 0.9926\n",
      "Epoch 56/100\n",
      "50000/50000 [==============================] - 7s 136us/step - loss: 0.0260 - acc: 0.9921\n",
      "Epoch 57/100\n",
      "50000/50000 [==============================] - 7s 137us/step - loss: 0.0229 - acc: 0.9929 0s - loss: 0.021\n",
      "Epoch 58/100\n",
      "50000/50000 [==============================] - 7s 139us/step - loss: 0.0248 - acc: 0.9927\n",
      "Epoch 59/100\n",
      "50000/50000 [==============================] - 7s 138us/step - loss: 0.0231 - acc: 0.9929\n",
      "Epoch 60/100\n",
      "50000/50000 [==============================] - 7s 136us/step - loss: 0.0166 - acc: 0.9948\n",
      "Epoch 61/100\n",
      "50000/50000 [==============================] - 7s 138us/step - loss: 0.0190 - acc: 0.9944 0s - loss: 0.0178 \n",
      "Epoch 62/100\n",
      "50000/50000 [==============================] - 7s 135us/step - loss: 0.0172 - acc: 0.9943\n",
      "Epoch 63/100\n",
      "50000/50000 [==============================] - 7s 137us/step - loss: 0.0194 - acc: 0.9941\n",
      "Epoch 64/100\n",
      "50000/50000 [==============================] - 7s 146us/step - loss: 0.0198 - acc: 0.9940\n",
      "Epoch 65/100\n",
      "50000/50000 [==============================] - 7s 143us/step - loss: 0.0227 - acc: 0.9928\n",
      "Epoch 66/100\n",
      "50000/50000 [==============================] - 7s 139us/step - loss: 0.0193 - acc: 0.9940\n",
      "Epoch 67/100\n",
      "50000/50000 [==============================] - 7s 141us/step - loss: 0.0169 - acc: 0.9945\n",
      "Epoch 68/100\n",
      "50000/50000 [==============================] - 7s 148us/step - loss: 0.0165 - acc: 0.9949\n",
      "Epoch 69/100\n",
      "50000/50000 [==============================] - 7s 142us/step - loss: 0.0184 - acc: 0.9947\n",
      "Epoch 70/100\n",
      "50000/50000 [==============================] - 8s 153us/step - loss: 0.0187 - acc: 0.9938\n",
      "Epoch 71/100\n",
      "50000/50000 [==============================] - 7s 139us/step - loss: 0.0184 - acc: 0.9942\n",
      "Epoch 72/100\n",
      "50000/50000 [==============================] - 7s 142us/step - loss: 0.0180 - acc: 0.9945\n",
      "Epoch 73/100\n",
      "50000/50000 [==============================] - 8s 156us/step - loss: 0.0160 - acc: 0.9949\n",
      "Epoch 74/100\n",
      "50000/50000 [==============================] - 7s 139us/step - loss: 0.0116 - acc: 0.9960\n",
      "Epoch 75/100\n",
      "50000/50000 [==============================] - 7s 147us/step - loss: 0.0152 - acc: 0.9957\n",
      "Epoch 76/100\n"
     ]
    },
    {
     "name": "stdout",
     "output_type": "stream",
     "text": [
      "50000/50000 [==============================] - 7s 143us/step - loss: 0.0172 - acc: 0.9949\n",
      "Epoch 77/100\n",
      "50000/50000 [==============================] - 7s 143us/step - loss: 0.0144 - acc: 0.9955\n",
      "Epoch 78/100\n",
      "50000/50000 [==============================] - 7s 143us/step - loss: 0.0132 - acc: 0.9962\n",
      "Epoch 79/100\n",
      "50000/50000 [==============================] - 7s 146us/step - loss: 0.0169 - acc: 0.9947\n",
      "Epoch 80/100\n",
      "50000/50000 [==============================] - 7s 144us/step - loss: 0.0230 - acc: 0.9937\n",
      "Epoch 81/100\n",
      "50000/50000 [==============================] - 7s 145us/step - loss: 0.0151 - acc: 0.9955\n",
      "Epoch 82/100\n",
      "50000/50000 [==============================] - 7s 142us/step - loss: 0.0175 - acc: 0.9947\n",
      "Epoch 83/100\n",
      "50000/50000 [==============================] - 7s 135us/step - loss: 0.0122 - acc: 0.9960\n",
      "Epoch 84/100\n",
      "50000/50000 [==============================] - 7s 137us/step - loss: 0.0102 - acc: 0.9969\n",
      "Epoch 85/100\n",
      "50000/50000 [==============================] - 7s 138us/step - loss: 0.0145 - acc: 0.9956\n",
      "Epoch 86/100\n",
      "50000/50000 [==============================] - 7s 144us/step - loss: 0.0152 - acc: 0.9953\n",
      "Epoch 87/100\n",
      "50000/50000 [==============================] - 8s 158us/step - loss: 0.0121 - acc: 0.9965\n",
      "Epoch 88/100\n",
      "50000/50000 [==============================] - 9s 177us/step - loss: 0.0129 - acc: 0.9961\n",
      "Epoch 89/100\n",
      "50000/50000 [==============================] - 7s 147us/step - loss: 0.0197 - acc: 0.9942\n",
      "Epoch 90/100\n",
      "50000/50000 [==============================] - 8s 153us/step - loss: 0.0139 - acc: 0.9955\n",
      "Epoch 91/100\n",
      "50000/50000 [==============================] - 8s 158us/step - loss: 0.0114 - acc: 0.9967\n",
      "Epoch 92/100\n",
      "50000/50000 [==============================] - 8s 158us/step - loss: 0.0166 - acc: 0.9950\n",
      "Epoch 93/100\n",
      "50000/50000 [==============================] - 8s 166us/step - loss: 0.0149 - acc: 0.9953\n",
      "Epoch 94/100\n",
      "50000/50000 [==============================] - 9s 172us/step - loss: 0.0161 - acc: 0.9948\n",
      "Epoch 95/100\n",
      "50000/50000 [==============================] - 7s 149us/step - loss: 0.0111 - acc: 0.9966\n",
      "Epoch 96/100\n",
      "50000/50000 [==============================] - 8s 160us/step - loss: 0.0117 - acc: 0.9964\n",
      "Epoch 97/100\n",
      "50000/50000 [==============================] - 8s 158us/step - loss: 0.0116 - acc: 0.9960\n",
      "Epoch 98/100\n",
      "50000/50000 [==============================] - 8s 162us/step - loss: 0.0173 - acc: 0.9948\n",
      "Epoch 99/100\n",
      "50000/50000 [==============================] - 9s 172us/step - loss: 0.0147 - acc: 0.9958\n",
      "Epoch 100/100\n",
      "50000/50000 [==============================] - 9s 171us/step - loss: 0.0160 - acc: 0.9954\n"
     ]
    },
    {
     "data": {
      "text/plain": [
       "<keras.callbacks.History at 0x2e85683ce48>"
      ]
     },
     "execution_count": 6,
     "metadata": {},
     "output_type": "execute_result"
    }
   ],
   "source": [
    "\n",
    "classifier=Sequential()\n",
    "\n",
    "#卷積組合\n",
    "classifier.add(Convolution2D(input_shape=(32, 32, 3), kernel_size=(3,3), filters=32, activation='relu', padding='same'))#32,3,3,input_shape=(32,32,3),activation='relu''\n",
    "classifier.add(BatchNormalization())\n",
    "\n",
    "'''自己決定MaxPooling2D放在哪裡'''\n",
    "#classifier.add(MaxPooling2D(pool_size=(2,2)))\n",
    "\n",
    "#卷積組合\n",
    "classifier.add(Convolution2D(kernel_size=(3,3), filters=32, activation='relu', padding='same'))\n",
    "classifier.add(BatchNormalization())\n",
    "classifier.add(MaxPooling2D(pool_size=(2,2)))\n",
    "\n",
    "#flatten\n",
    "classifier.add(Flatten())\n",
    "\n",
    "#FC\n",
    "classifier.add(Dense(output_dim=100, activation='relu')) #output_dim=100,activation=relu\n",
    "\n",
    "#輸出\n",
    "classifier.add(Dense(output_dim=10,activation='softmax'))\n",
    "\n",
    "#超過兩個就要選categorical_crossentrophy\n",
    "classifier.compile(optimizer = 'adam', loss = 'categorical_crossentropy', metrics = ['accuracy'])\n",
    "classifier.fit(x_train,y_train,batch_size=100,epochs=100)"
   ]
  },
  {
   "cell_type": "markdown",
   "metadata": {},
   "source": [
    "## 預測新圖片，輸入影像前處理要與訓練時相同\n",
    "#### ((X-mean)/(std+1e-7) ):這裡的mean跟std是訓練集的\n",
    "## 維度如下方示範"
   ]
  },
  {
   "cell_type": "code",
   "execution_count": 7,
   "metadata": {},
   "outputs": [
    {
     "data": {
      "text/plain": [
       "array([[6.5573812e-07, 8.7241843e-25, 5.7286506e-06, 9.9999309e-01,\n",
       "        1.4608594e-12, 6.4676448e-27, 2.5277324e-16, 2.1288201e-27,\n",
       "        5.0401479e-07, 2.9671297e-35]], dtype=float32)"
      ]
     },
     "execution_count": 7,
     "metadata": {},
     "output_type": "execute_result"
    }
   ],
   "source": [
    "input_example=(np.zeros(shape=(1,32,32,3))-mean_train)/(std_train+1e-7) \n",
    "classifier.predict(input_example)"
   ]
  },
  {
   "cell_type": "code",
   "execution_count": 8,
   "metadata": {},
   "outputs": [
    {
     "name": "stdout",
     "output_type": "stream",
     "text": [
      "10000/10000 [==============================] - 2s 160us/step\n"
     ]
    },
    {
     "data": {
      "text/plain": [
       "[3.458158515548706, 0.6645]"
      ]
     },
     "execution_count": 8,
     "metadata": {},
     "output_type": "execute_result"
    }
   ],
   "source": [
    "classifier.evaluate(x_test, y_test)"
   ]
  },
  {
   "cell_type": "code",
   "execution_count": null,
   "metadata": {},
   "outputs": [],
   "source": []
  }
 ],
 "metadata": {
  "kernelspec": {
   "display_name": "Python 3",
   "language": "python",
   "name": "python3"
  },
  "language_info": {
   "codemirror_mode": {
    "name": "ipython",
    "version": 3
   },
   "file_extension": ".py",
   "mimetype": "text/x-python",
   "name": "python",
   "nbconvert_exporter": "python",
   "pygments_lexer": "ipython3",
   "version": "3.7.3"
  }
 },
 "nbformat": 4,
 "nbformat_minor": 2
}
